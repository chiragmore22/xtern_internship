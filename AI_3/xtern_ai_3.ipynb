{
  "cells": [
    {
      "cell_type": "code",
      "source": [
        "!pip install googlemaps\n",
        "!pip install openai\n",
        "!pip install PolyLine"
      ],
      "metadata": {
        "colab": {
          "base_uri": "https://localhost:8080/"
        },
        "id": "Y_ncuw_oKp4Y",
        "outputId": "786d1f1e-3cd1-4990-c48f-d79b7b79590c"
      },
      "execution_count": 6,
      "outputs": [
        {
          "output_type": "stream",
          "name": "stdout",
          "text": [
            "Requirement already satisfied: googlemaps in /usr/local/lib/python3.10/dist-packages (4.10.0)\n",
            "Requirement already satisfied: requests<3.0,>=2.20.0 in /usr/local/lib/python3.10/dist-packages (from googlemaps) (2.31.0)\n",
            "Requirement already satisfied: charset-normalizer<4,>=2 in /usr/local/lib/python3.10/dist-packages (from requests<3.0,>=2.20.0->googlemaps) (3.3.0)\n",
            "Requirement already satisfied: idna<4,>=2.5 in /usr/local/lib/python3.10/dist-packages (from requests<3.0,>=2.20.0->googlemaps) (3.4)\n",
            "Requirement already satisfied: urllib3<3,>=1.21.1 in /usr/local/lib/python3.10/dist-packages (from requests<3.0,>=2.20.0->googlemaps) (2.0.6)\n",
            "Requirement already satisfied: certifi>=2017.4.17 in /usr/local/lib/python3.10/dist-packages (from requests<3.0,>=2.20.0->googlemaps) (2023.7.22)\n",
            "Requirement already satisfied: openai in /usr/local/lib/python3.10/dist-packages (0.28.1)\n",
            "Requirement already satisfied: requests>=2.20 in /usr/local/lib/python3.10/dist-packages (from openai) (2.31.0)\n",
            "Requirement already satisfied: tqdm in /usr/local/lib/python3.10/dist-packages (from openai) (4.66.1)\n",
            "Requirement already satisfied: aiohttp in /usr/local/lib/python3.10/dist-packages (from openai) (3.8.6)\n",
            "Requirement already satisfied: charset-normalizer<4,>=2 in /usr/local/lib/python3.10/dist-packages (from requests>=2.20->openai) (3.3.0)\n",
            "Requirement already satisfied: idna<4,>=2.5 in /usr/local/lib/python3.10/dist-packages (from requests>=2.20->openai) (3.4)\n",
            "Requirement already satisfied: urllib3<3,>=1.21.1 in /usr/local/lib/python3.10/dist-packages (from requests>=2.20->openai) (2.0.6)\n",
            "Requirement already satisfied: certifi>=2017.4.17 in /usr/local/lib/python3.10/dist-packages (from requests>=2.20->openai) (2023.7.22)\n",
            "Requirement already satisfied: attrs>=17.3.0 in /usr/local/lib/python3.10/dist-packages (from aiohttp->openai) (23.1.0)\n",
            "Requirement already satisfied: multidict<7.0,>=4.5 in /usr/local/lib/python3.10/dist-packages (from aiohttp->openai) (6.0.4)\n",
            "Requirement already satisfied: async-timeout<5.0,>=4.0.0a3 in /usr/local/lib/python3.10/dist-packages (from aiohttp->openai) (4.0.3)\n",
            "Requirement already satisfied: yarl<2.0,>=1.0 in /usr/local/lib/python3.10/dist-packages (from aiohttp->openai) (1.9.2)\n",
            "Requirement already satisfied: frozenlist>=1.1.1 in /usr/local/lib/python3.10/dist-packages (from aiohttp->openai) (1.4.0)\n",
            "Requirement already satisfied: aiosignal>=1.1.2 in /usr/local/lib/python3.10/dist-packages (from aiohttp->openai) (1.3.1)\n",
            "Requirement already satisfied: PolyLine in /usr/local/lib/python3.10/dist-packages (2.0.1)\n"
          ]
        }
      ]
    },
    {
      "cell_type": "code",
      "execution_count": 7,
      "metadata": {
        "id": "ctxdJicaKeKf"
      },
      "outputs": [],
      "source": [
        "import pandas as pd\n",
        "import googlemaps\n",
        "from datetime import datetime\n",
        "import folium\n",
        "import polyline"
      ]
    },
    {
      "cell_type": "code",
      "execution_count": 12,
      "metadata": {
        "id": "QB_yEDplKeKg"
      },
      "outputs": [],
      "source": [
        "with open('/content/key.txt', 'r') as file:\n",
        "    api_key = file.read().strip()\n",
        "\n",
        "gmaps = googlemaps.Client(key=api_key)\n",
        "\n",
        "def get_lat_lng(address):\n",
        "    geocode_result = gmaps.geocode(address)\n",
        "    location = geocode_result[0]['geometry']['location']\n",
        "    return location['lat'], location['lng']\n",
        "\n",
        "homeaddr = 'Mile Square, Indianapolis, IN'\n",
        "\n",
        "homelatAddr = get_lat_lng(homeaddr)\n",
        "radius = 10000\n",
        "\n",
        "ftruck_result= gmaps.places_nearby(\n",
        "    location=homelatAddr,\n",
        "    radius=radius,\n",
        "    keyword='food truck',\n",
        "    type='food'\n",
        ")\n",
        "\n",
        "ftruck_df = pd.DataFrame(ftruck_result['results'])\n",
        "ftruck_df = ftruck_df[ftruck_df['business_status'] == 'OPERATIONAL']\n",
        "ftruck_df = ftruck_df[['name', 'place_id','rating','vicinity']]\n",
        "\n",
        "opening_hours_list = []\n",
        "website_url_list = []\n",
        "\n",
        "for pid in ftruck_df['place_id']:\n",
        "    details = gmaps.place(place_id=pid)\n",
        "\n",
        "    website_url = details['result'].get('website', 'No website available')\n",
        "    website_url_list.append(website_url)\n",
        "\n",
        "    hours = details['result'].get('opening_hours', {}).get('weekday_text', ['No opening hours available'])\n",
        "    opening_hours_list.append(hours)\n",
        "\n",
        "ftruck_df['Opening Hours'] = opening_hours_list\n",
        "ftruck_df['Website'] = website_url_list\n",
        "\n",
        "ftruck_df = ftruck_df[~ftruck_df['Opening Hours'].apply(lambda x: 'No opening hours available' in x)].reset_index(drop='index')\n",
        "ftruck_df = ftruck_df.drop(columns=['place_id'])\n",
        "ftruck_df = ftruck_df.rename(columns={'vicinity':'Address'})\n",
        "ftruck_df['Opening Hours'] = ftruck_df['Opening Hours'].apply(lambda x: [day.replace('\\u202f', '').replace('\\u2009', '') for day in x])\n",
        "ftruck_df.to_excel(\"./All Nearby Food Trucks 10km.xlsx\", engine='openpyxl', index=True)"
      ]
    },
    {
      "cell_type": "code",
      "execution_count": 13,
      "metadata": {
        "id": "6MlmBQrPKeKh"
      },
      "outputs": [],
      "source": [
        "def extract_weekend_hours(opening_hours_list):\n",
        "    hours_dict = {}\n",
        "\n",
        "    for day in opening_hours_list:\n",
        "        # Check for Saturday and Sunday\n",
        "        if \"Saturday\" in day:\n",
        "            hours_dict[\"Saturday\"] = day.split(\": \")[1]\n",
        "        if \"Sunday\" in day:\n",
        "            hours_dict[\"Sunday\"] = day.split(\": \")[1]\n",
        "\n",
        "    return hours_dict\n",
        "\n",
        "def has_weekend_hours(opening_hours_list):\n",
        "    # Convert the list to a single string for easier search\n",
        "    opening_hours_str = \" \".join(opening_hours_list)\n",
        "    # Check for presence of Saturday or Sunday in the string\n",
        "    return \"Saturday\" in opening_hours_str or \"Sunday\" in opening_hours_str\n",
        "\n",
        "ftruck_df_with_weekend = ftruck_df[ftruck_df['Opening Hours'].apply(has_weekend_hours)].reset_index(drop=True)\n",
        "\n",
        "ftruck_df['Saturday Hours'] = ftruck_df['Opening Hours'].apply(lambda x: extract_weekend_hours(x).get('Saturday', 'Closed'))\n",
        "ftruck_df['Sunday Hours'] = ftruck_df['Opening Hours'].apply(lambda x: extract_weekend_hours(x).get('Sunday', 'Closed'))\n",
        "\n",
        "ftruck_df_with_weekend['Saturday Hours'] = ftruck_df_with_weekend['Opening Hours'].apply(lambda x: extract_weekend_hours(x).get('Saturday', 'Closed'))\n",
        "ftruck_df_with_weekend['Sunday Hours'] = ftruck_df_with_weekend['Opening Hours'].apply(lambda x: extract_weekend_hours(x).get('Sunday', 'Closed'))"
      ]
    },
    {
      "cell_type": "code",
      "execution_count": 15,
      "metadata": {
        "id": "g08edrwqKeKh"
      },
      "outputs": [],
      "source": [
        "def time_to_minutes(time_str):\n",
        "    #AM to PM\n",
        "    time_obj = pd.Timestamp(time_str)\n",
        "    return time_obj.hour * 60 + time_obj.minute\n",
        "\n",
        "def is_within_time_range(time_range, preferred_time):\n",
        "    #Is it within our Breakfast / Lunch / Dinner time range?\n",
        "    start_time, end_time = time_range.split('–')\n",
        "\n",
        "    start_minutes = time_to_minutes(start_time.strip())\n",
        "    end_minutes = time_to_minutes(end_time.strip())\n",
        "\n",
        "    preferred_minutes = time_to_minutes(preferred_time)\n",
        "\n",
        "    # Check if the end time is next day\n",
        "    if end_minutes < start_minutes:\n",
        "        return start_minutes <= preferred_minutes or preferred_minutes <= end_minutes\n",
        "    else:\n",
        "        return start_minutes <= preferred_minutes <= end_minutes\n",
        "\n",
        "# Filtering for each meal time\n",
        "breakfast_df = ftruck_df[ftruck_df['Saturday Hours'].apply(is_within_time_range, preferred_time='10:30 AM')].sort_values(by='rating', ascending=False)\n",
        "\n",
        "# Removing the selected breakfast options from consideration for lunch & dinner\n",
        "ftruck_df = ftruck_df.drop(breakfast_df.index)\n",
        "lunch_df = ftruck_df[ftruck_df['Saturday Hours'].apply(is_within_time_range, preferred_time='3:30 PM')].sort_values(by='rating', ascending=False)\n",
        "\n",
        "# Removing the selected lunch options from consideration for dinner\n",
        "ftruck_df = ftruck_df.drop(lunch_df.index)\n",
        "dinner_df = ftruck_df[ftruck_df['Saturday Hours'].apply(is_within_time_range, preferred_time='8:30 PM')].sort_values(by='rating', ascending=False)\n",
        "\n",
        "breakfast_df.to_excel(\"./Breakfast Food Trucks.xlsx\", engine='openpyxl', index=True)  # index=False prevents writing row indices to the Excel file\n",
        "lunch_df.to_excel(\"./Lunch Food Trucks.xlsx\", engine='openpyxl', index=True)  # index=False prevents writing row indices to the Excel file\n",
        "dinner_df.to_excel(\"./Dinner Food Trucks.xlsx\", engine='openpyxl', index=True)  # index=False prevents writing row indices to the Excel file"
      ]
    },
    {
      "cell_type": "code",
      "execution_count": 16,
      "metadata": {
        "id": "QCXrrHLNKeKi"
      },
      "outputs": [],
      "source": [
        "# Getting the second best options for Saturday\n",
        "breakfast_saturday_df = breakfast_df.iloc[[1]] if len(breakfast_df) > 1 else None\n",
        "lunch_saturday_df = lunch_df.iloc[[1]] if len(lunch_df) > 1 else None\n",
        "dinner_saturday_df = dinner_df.iloc[[1]] if len(dinner_df) > 1 else None\n",
        "\n",
        "saturday_frames = [df for df in [breakfast_saturday_df, lunch_saturday_df, dinner_saturday_df] if df is not None]\n",
        "saturday_df = pd.concat(saturday_frames, axis=0)\n",
        "\n",
        "# Getting the first best options for Sunday (Food must get better after each day)\n",
        "breakfast_sunday_df = breakfast_df.iloc[[0]] if len(breakfast_df) > 1 else None\n",
        "lunch_sunday_df = lunch_df.iloc[[0]] if len(lunch_df) > 1 else None\n",
        "dinner_sunday_df = dinner_df.iloc[[0]] if len(dinner_df) > 1 else None\n",
        "\n",
        "sunday_frames = [df for df in [breakfast_sunday_df, lunch_sunday_df, dinner_sunday_df] if df is not None]\n",
        "sunday_df = pd.concat(sunday_frames, axis=0)\n",
        "\n",
        "saturday_df.to_excel(\"./Saturday Food Truck List.xlsx\", engine='openpyxl', index=True)\n",
        "sunday_df.to_excel(\"./Sunday Food Truck List.xlsx\", engine='openpyxl', index=True)"
      ]
    },
    {
      "cell_type": "code",
      "execution_count": 18,
      "metadata": {
        "id": "06g8WzOJKeKi"
      },
      "outputs": [],
      "source": [
        "def determine_transport_mode(distance_val):\n",
        "    if distance_val < 1:\n",
        "        return \"walking\"\n",
        "    elif 1 <= distance_val <= 3:\n",
        "        return \"bicycling\"\n",
        "    else:\n",
        "        return \"driving\"\n",
        "\n",
        "def get_initial_distance_and_time(origin, destination):\n",
        "    #Get distance between origin and destination using walking as default mode.\n",
        "    distance_result = gmaps.distance_matrix(origins=origin, destinations=destination, mode=\"walking\")\n",
        "    distance_text = distance_result['rows'][0]['elements'][0]['distance']['text']\n",
        "    distance_val = float(distance_text.split()[0])\n",
        "    return distance_val, distance_text\n",
        "\n",
        "def get_travel_time(origin, destination, mode):\n",
        "    #Get travel time between origin and destination for a specified mode.\n",
        "    time_result = gmaps.distance_matrix(origins=origin, destinations=destination, mode=mode)\n",
        "    time_text = time_result['rows'][0]['elements'][0]['duration']['text']\n",
        "    return time_text\n",
        "\n",
        "satAddresses = saturday_df['Address'].tolist()\n",
        "satAddresses.insert(0, homeaddr)\n",
        "satAddresses.append(homeaddr)\n",
        "satlatAddr = [get_lat_lng(address) for address in satAddresses]\n",
        "\n",
        "sunAddresses = sunday_df['Address'].tolist()\n",
        "sunAddresses.insert(0, homeaddr)\n",
        "sunAddresses.append(homeaddr)\n",
        "sunlatAddr = [get_lat_lng(address) for address in sunAddresses]\n",
        "\n",
        "def write_to_file(latitudes, addresses, filename):\n",
        "    with open(filename, 'w') as file:\n",
        "        for i in range(len(latitudes) - 1):\n",
        "            distance_val, distance_text = get_initial_distance_and_time(latitudes[i], latitudes[i+1])\n",
        "            mode = determine_transport_mode(distance_val)\n",
        "            time_text = get_travel_time(latitudes[i], latitudes[i+1], mode)\n",
        "            output_str = f\"From {addresses[i]} to {addresses[i+1]}: {distance_text} taking {time_text} by {mode}\\n\"\n",
        "            file.write(output_str)\n",
        "\n",
        "write_to_file(satlatAddr, satAddresses, './Saturday Journey Preview.txt')\n",
        "write_to_file(sunlatAddr, sunAddresses, './Sunday Journey Preview.txt')"
      ]
    },
    {
      "cell_type": "code",
      "execution_count": 19,
      "metadata": {
        "id": "5E1KrWzfKeKj"
      },
      "outputs": [],
      "source": [
        "import folium\n",
        "import random\n",
        "\n",
        "def random_color():\n",
        "    dark_colors = [\n",
        "        '#1a1a1a',  # Dark Gray\n",
        "        '#003366',  # Dark Blue\n",
        "        '#660033',  # Dark Maroon\n",
        "        '#003300',  # Dark Green\n",
        "        '#4B0082',  # Indigo\n",
        "        '#8B4513',  # Saddle Brown\n",
        "    ]\n",
        "    return random.choice(dark_colors)\n",
        "\n",
        "def visualize_journey_with_dynamic_directions(stops_coordinates, stops_labels, names=None):\n",
        "    mapcenter = get_lat_lng('Mile Square, Indianapolis, IN')\n",
        "    map = folium.Map(location=[mapcenter[0], mapcenter[1]], zoom_start=13)\n",
        "\n",
        "    # Loop through each pair of stops to get individual paths and determine the mode\n",
        "    for i in range(len(stops_coordinates) - 1):\n",
        "        distance_val, _ = get_initial_distance_and_time(stops_coordinates[i], stops_coordinates[i+1])\n",
        "        current_mode = determine_transport_mode(distance_val)\n",
        "\n",
        "        directions_result = gmaps.directions(origin=stops_coordinates[i],\n",
        "                                             destination=stops_coordinates[i+1],\n",
        "                                             mode=current_mode)\n",
        "\n",
        "        path = directions_result[0]['overview_polyline']['points']\n",
        "        decoded = polyline.decode(path)\n",
        "        folium.PolyLine(locations=decoded, color=random_color(), weight=2.5, opacity=1).add_to(map)\n",
        "\n",
        "    # Adding stops to the map\n",
        "    for i, (coord, label) in enumerate(zip(stops_coordinates, stops_labels)):\n",
        "        popup_label = names[i] if names and i < len(names) else label\n",
        "\n",
        "        folium.CircleMarker(\n",
        "            location=[coord[0], coord[1]],\n",
        "            radius=7,\n",
        "            color='blue',\n",
        "            fill=True,\n",
        "            fill_color='blue',\n",
        "            fill_opacity=0.6,\n",
        "            popup=popup_label,\n",
        "        ).add_to(map)\n",
        "\n",
        "        # Adding numbers for the stops (html style)\n",
        "        folium.Marker(\n",
        "            [coord[0], coord[1]],\n",
        "            icon=folium.DivIcon(\n",
        "                icon_size=(150, 36),\n",
        "                icon_anchor=(7, 20),\n",
        "                html=f'<div style=\"font-size: 16pt; color: red;\">{i+1}</div>',\n",
        "            ),\n",
        "            popup=popup_label,\n",
        "        ).add_to(map)\n",
        "\n",
        "    return map"
      ]
    },
    {
      "cell_type": "code",
      "execution_count": 20,
      "metadata": {
        "id": "Mee6qTIRKeKj",
        "colab": {
          "base_uri": "https://localhost:8080/"
        },
        "outputId": "1b5023a8-4578-40bd-a546-5cfbcc2f6dd9"
      },
      "outputs": [
        {
          "output_type": "stream",
          "name": "stdout",
          "text": [
            "Map saved to ./Saturday_Trip.html\n",
            "Map saved to ./Sunday_Trip.html\n"
          ]
        }
      ],
      "source": [
        "def visualize_trip_day(addresses, names, filename):\n",
        "    # Convert addresses to lat-long coordinates\n",
        "    latlng_coords = [get_lat_lng(address) for address in addresses]\n",
        "\n",
        "    # Generate map visualization\n",
        "    mapvis = visualize_journey_with_dynamic_directions(latlng_coords, addresses, names)\n",
        "    mapvis.save(filename)\n",
        "    print(f\"Map saved to {filename}\")\n",
        "\n",
        "satNames = [\"Home\"] + saturday_df['name'].tolist() + [\"Home\"]\n",
        "sunNames = [\"Home\"] + sunday_df['name'].tolist() + [\"Home\"]\n",
        "\n",
        "# Call the above function for both Saturday and Sunday\n",
        "visualize_trip_day(satAddresses, satNames, \"./Saturday_Trip.html\")\n",
        "visualize_trip_day(sunAddresses, sunNames, \"./Sunday_Trip.html\")"
      ]
    },
    {
      "cell_type": "code",
      "source": [],
      "metadata": {
        "id": "DVQPhIwJMvaZ"
      },
      "execution_count": null,
      "outputs": []
    }
  ],
  "metadata": {
    "kernelspec": {
      "display_name": "base",
      "language": "python",
      "name": "python3"
    },
    "language_info": {
      "codemirror_mode": {
        "name": "ipython",
        "version": 3
      },
      "file_extension": ".py",
      "mimetype": "text/x-python",
      "name": "python",
      "nbconvert_exporter": "python",
      "pygments_lexer": "ipython3",
      "version": "3.9.13"
    },
    "colab": {
      "provenance": []
    }
  },
  "nbformat": 4,
  "nbformat_minor": 0
}